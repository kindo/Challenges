{
 "cells": [
  {
   "cell_type": "markdown",
   "metadata": {},
   "source": [
    "# Coin change \n",
    "\n",
    "\n",
    "[Python interview with a Google engineer: Coin Change](https://www.youtube.com/watch?v=HWW-jA6YjHk)\n",
    "\n",
    "The following code finds by bruteforce the minimum number of coins to give back as change\n",
    "\n",
    "* Coins list: type of coins available \n",
    "* Cent: The value of the cent that is been changed "
   ]
  },
  {
   "cell_type": "code",
   "execution_count": 2,
   "metadata": {},
   "outputs": [
    {
     "data": {
      "text/plain": [
       "6"
      ]
     },
     "execution_count": 2,
     "metadata": {},
     "output_type": "execute_result"
    }
   ],
   "source": [
    "\n",
    "def min_num_coin(cent_init):\n",
    "\n",
    "    coins  = [25, 10, 5, 1]\n",
    "    \n",
    "    final_num_count = 99999\n",
    "    \n",
    "    for i in range(len(coins)):\n",
    "    \n",
    "        count = 0\n",
    "        cent = cent_init\n",
    "        while cent !=0:\n",
    "            if cent >= coins[i]:\n",
    "                cent = cent - coins[i]\n",
    "                count += 1\n",
    "\n",
    "            if cent < coins[i]:\n",
    "                i += 1\n",
    "    \n",
    "        if final_num_count > count:\n",
    "            final_num_count = count \n",
    "\n",
    "    return final_num_count\n",
    "\n",
    "min_num_coin(120)"
   ]
  }
