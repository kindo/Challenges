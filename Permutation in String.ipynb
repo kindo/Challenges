{
 "cells": [
  {
   "cell_type": "markdown",
   "id": "f1e21d50",
   "metadata": {},
   "source": [
    "# Permutation in string\n",
    "\n",
    "[Leet code link](https://leetcode.com/problems/permutation-in-string/)\n",
    "\n",
    "## Question\n",
    "Given two strings s1 and s2, write a function to return true if s2 contains the permutation of s1. In other words, one of the first string's permutations is the substring of the second string."
   ]
  },
  {
   "cell_type": "code",
   "execution_count": 3,
   "id": "8e15ae24",
   "metadata": {},
   "outputs": [],
   "source": [
    "#Solution using replace with sliding window\n",
    "#This seems like \n",
    "\n",
    "def stringPermutation(s1, s2):\n",
    "    \n",
    "\n",
    "    \n",
    "    \n",
    "    for i in range(len(s2)):\n",
    "        \n",
    "        if len(s1)+i <= len(s2):\n",
    "            candidate = s2[i:len(s1)+i]\n",
    "            s1_copy = s1[:]\n",
    "            for w in candidate:\n",
    "                s1_copy = s1_copy.replace(w, \"\", 1)\n",
    "            if len(s1_copy)==0:\n",
    "                return True\n",
    "\n",
    "        else:\n",
    "            break\n",
    "    return False"
   ]
  },
  {
   "cell_type": "code",
   "execution_count": 4,
   "id": "9d22f19e",
   "metadata": {},
   "outputs": [
    {
     "data": {
      "text/plain": [
       "True"
      ]
     },
     "execution_count": 4,
     "metadata": {},
     "output_type": "execute_result"
    }
   ],
   "source": [
    "\n",
    "s1 = \"ab\"\n",
    "s2 = \"eidbaooo\"\n",
    "\n",
    "stringPermutation(s1, s2)"
   ]
  },
  {
   "cell_type": "code",
   "execution_count": 5,
   "id": "477578ed",
   "metadata": {},
   "outputs": [],
   "source": [
    "#Solution using bytearray with sliding window\n",
    "#These code seems like an O(n) time complexity correct me if I'm wrong\n",
    "\n",
    "def checkInclusion(s1, s2): \n",
    "\n",
    "    s1BA = bytearray(s1, \"utf-8\")\n",
    "\n",
    "\n",
    "\n",
    "    for i in range(len(s2)):\n",
    "\n",
    "        if len(s1)+i <= len(s2):\n",
    "            candidate = s2[i:len(s1)+i]\n",
    "            BA_Cand = bytearray(candidate, \"utf-8\")\n",
    "\n",
    "\n",
    "            if sum(s1BA)==sum(BA_Cand) and set(s1BA)==set(BA_Cand) :\n",
    "                return True\n",
    "\n",
    "    return False"
   ]
  },
  {
   "cell_type": "code",
   "execution_count": 6,
   "id": "ff536a63",
   "metadata": {},
   "outputs": [
    {
     "data": {
      "text/plain": [
       "True"
      ]
     },
     "execution_count": 6,
     "metadata": {},
     "output_type": "execute_result"
    }
   ],
   "source": [
    "checkInclusion(s1, s2)"
   ]
  },
  {
   "cell_type": "code",
   "execution_count": null,
   "id": "e25024ce",
   "metadata": {},
   "outputs": [],
   "source": []
  }
 ],
 "metadata": {
  "kernelspec": {
   "display_name": "Python 3",
   "language": "python",
   "name": "python3"
  },
  "language_info": {
   "codemirror_mode": {
    "name": "ipython",
    "version": 3
   },
   "file_extension": ".py",
   "mimetype": "text/x-python",
   "name": "python",
   "nbconvert_exporter": "python",
   "pygments_lexer": "ipython3",
   "version": "3.7.10"
  }
 },
 "nbformat": 4,
 "nbformat_minor": 5
}
