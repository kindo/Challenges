{
 "cells": [
  {
   "cell_type": "markdown",
   "id": "919cde73",
   "metadata": {},
   "source": [
    "# Sort colors \n",
    "\n",
    "[Leetcode](https://leetcode.com/problems/sort-colors/)\n",
    "\n",
    "\n",
    "**Question:** Given an array nums with n objects colored red, white, or blue, sort them in-place so that objects of the same color are adjacent, with the colors in the order red, white, and blue.\n",
    "We will use the integers 0, 1, and 2 to represent the color red, white, and blue, respectively."
   ]
  },
  {
   "cell_type": "code",
   "execution_count": 2,
   "id": "4f184ac2",
   "metadata": {},
   "outputs": [],
   "source": [
    "# Time complexity O(n*n)\n",
    "\n",
    "def sort_colors_slow(input_):\n",
    "\n",
    "    for ix, i in enumerate(input_):\n",
    "        for jx, j in enumerate(input_):\n",
    "            if input_[ix] < input_[jx]:\n",
    "                input_[ix], input_[jx] = input_[jx], input_[ix]\n",
    "    return input_"
   ]
  },
  {
   "cell_type": "code",
   "execution_count": 3,
   "id": "bf907642",
   "metadata": {},
   "outputs": [],
   "source": [
    "#Time complexity O(n)\n",
    "\n",
    "def sort_colors_fast(nums):\n",
    "\n",
    "    zeros, ones, twos = 0,0,0\n",
    "\n",
    "    for i in (nums):\n",
    "        if i == 0:\n",
    "            zeros += 1\n",
    "        elif i == 1:\n",
    "            ones += 1\n",
    "        elif i == 2:\n",
    "            twos += 1\n",
    "\n",
    "    nums[:zeros] = [0]*zeros\n",
    "    nums[zeros:zeros+ones] = [1]*ones\n",
    "    nums[zeros+ones:zeros+ones+twos] = [2]*twos\n",
    "    return nums"
   ]
  },
  {
   "cell_type": "code",
   "execution_count": 5,
   "id": "decd8499",
   "metadata": {},
   "outputs": [
    {
     "data": {
      "text/plain": [
       "[0, 1, 2, 2, 2]"
      ]
     },
     "execution_count": 5,
     "metadata": {},
     "output_type": "execute_result"
    }
   ],
   "source": [
    "nums = [2, 1, 2, 0, 2]\n",
    "\n",
    "sort_colors_fast(nums)"
   ]
  }
 ],
 "metadata": {
  "kernelspec": {
   "display_name": "Python 3",
   "language": "python",
   "name": "python3"
  },
  "language_info": {
   "codemirror_mode": {
    "name": "ipython",
    "version": 3
   },
   "file_extension": ".py",
   "mimetype": "text/x-python",
   "name": "python",
   "nbconvert_exporter": "python",
   "pygments_lexer": "ipython3",
   "version": "3.7.10"
  }
 },
 "nbformat": 4,
 "nbformat_minor": 5
}
