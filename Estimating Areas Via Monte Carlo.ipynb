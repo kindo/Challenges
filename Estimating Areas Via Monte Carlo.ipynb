{
 "cells": [
  {
   "cell_type": "markdown",
   "metadata": {},
   "source": [
    "# Estimating Areas Via Monte Carlo\n",
    "\n",
    "* draw a rectangle around your arbitrary shape with area = Area_rec\n",
    "* simulate n points from a uniform distribution for the x coordinate: min = right bound of the rectangle and max = left bound of the rectangle for the y coordinate: min = lower bound of the rectangle and max = upper bound of the rectangle\n",
    "* check the number of points simulated which fall in the arbitrary shape (count)\n",
    "* Area of arbitrary shape = count / n * Area_rec"
   ]
  },
  {
   "cell_type": "code",
   "execution_count": 2,
   "metadata": {},
   "outputs": [],
   "source": [
    "def AOC(number_of_sim, ST):\n",
    "\n",
    "    count = 0\n",
    "    n = number_of_sim\n",
    "    x = np.random.uniform(ST.iloc[:, 0].min(), ST.iloc[:, 0].max(), size=n)\n",
    "    y = np.random.uniform(ST.iloc[:, 1].min(), ST.iloc[:, 1].max(), size=n)\n",
    "\n",
    "    ST = ST.sort_values(by=\"Distance de la rive droite (m)\").copy()\n",
    "    X, Y = ST.iloc[:, 0].values, ST.iloc[:, 1].values\n",
    "\n",
    "    for i in range(len(x)):\n",
    "\n",
    "        ix = np.argmin(np.abs(x[i] - X))\n",
    "\n",
    "\n",
    "        if x[i] > X[ix]: \n",
    "            x1, x2= X[ix], X[ix+1]\n",
    "            y1, y2 = Y[ix], Y[ix +1]\n",
    "        else: \n",
    "            x2, x1 = X[ix], X[ix-1]\n",
    "            y2, y1 = Y[ix], Y[ix -1]\n",
    "            \n",
    "\n",
    "        slope = (y2 - y1)/(x2 - x1)\n",
    "        y_poly = y1 + slope*(x[i] - x1)\n",
    "\n",
    "        if y[i] < y_poly:\n",
    "            count += 1 \n",
    "\n",
    "    Area_box = (ST.iloc[:, 0].max() - ST.iloc[:, 0].min())*(ST.iloc[:, 1].max() - ST.iloc[:, 1].min())\n",
    "    return count/n * Area_box\n"
   ]
  },
  {
   "cell_type": "code",
   "execution_count": 6,
   "metadata": {},
   "outputs": [
    {
     "data": {
      "text/plain": [
       "2760.0"
      ]
     },
     "execution_count": 6,
     "metadata": {},
     "output_type": "execute_result"
    }
   ],
   "source": [
    "import numpy as np \n",
    "import pandas as pd\n",
    "\n",
    "abr = pd.DataFrame({\"Distance de la rive droite (m)\":[0, 20, 30 , 35, 40, 40], \"y\":[0, 100, 100, 100, 100, 0]})\n",
    "\n",
    "AOC(100, abr)"
   ]
  },
  {
   "cell_type": "code",
   "execution_count": 14,
   "metadata": {},
   "outputs": [
    {
     "data": {
      "text/plain": [
       "[<matplotlib.lines.Line2D at 0x1ccd8683f88>]"
      ]
     },
     "execution_count": 14,
     "metadata": {},
     "output_type": "execute_result"
    },
    {
     "data": {
      "image/png": "[encoded data removed]",
      "text/plain": [
       "<Figure size 432x288 with 1 Axes>"
      ]
     },
     "metadata": {
      "needs_background": "light"
     },
     "output_type": "display_data"
    }
   ],
   "source": [
    "import matplotlib.pyplot as plt\n",
    "plt.plot([0, 20, 30 , 35, 40, 40],[0, 100, 100, 100, 100, 0])\n",
    "plt.plot([0,0,  40, 40, 0], [0, 100, 100, 0, 0], ls=\"--\", c=\"k\", alpha=0.2)"
   ]
  },
  {
   "cell_type": "code",
   "execution_count": null,
   "metadata": {},
   "outputs": [],
   "source": []
  }
 ],
 "metadata": {
  "kernelspec": {
   "display_name": "Python 3",
   "language": "python",
   "name": "python3"
  },
  "language_info": {
   "codemirror_mode": {
    "name": "ipython",
    "version": 3
   },
   "file_extension": ".py",
   "mimetype": "text/x-python",
   "name": "python",
   "nbconvert_exporter": "python",
   "pygments_lexer": "ipython3",
   "version": "3.7.7"
  }
 },
 "nbformat": 4,
 "nbformat_minor": 4
}
