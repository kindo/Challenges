{
 "cells": [
  {
   "cell_type": "markdown",
   "metadata": {},
   "source": [
    "# Game of life code \n",
    "\n",
    "[Conway's Game of Life](https://en.wikipedia.org/wiki/Conway's_Game_of_Life) \n",
    "\n",
    "\n",
    "**Rules:**\n",
    "\n",
    "1. Any live cell with fewer than two live neighbours dies, as if by underpopulation.\n",
    "2. Any live cell with two or three live neighbours lives on to the next generation.\n",
    "3. Any live cell with more than three live neighbours dies, as if by overpopulation.\n",
    "4. Any dead cell with exactly three live neighbours becomes a live cell, as if by reproduction."
   ]
  },
  {
   "cell_type": "code",
   "execution_count": 4,
   "metadata": {},
   "outputs": [],
   "source": [
    "\n",
    "def gol(board):\n",
    "    board_modf = board.copy()\n",
    "    for i in range(board.shape[0]):\n",
    "        for j in range(board.shape[1]):\n",
    "            mat = board[i-(i != 0)*1:i+1 + 1*(i!=board.shape[0] - 1)*1, j-(j  !=0):j+ 1+1*(j!=board.shape[1]-1)]\n",
    "            if board[i, j] == 1 and mat.ravel().sum() -1 < 2:\n",
    "                board_modf[i, j] = 0\n",
    "            if board[i, j] == 1 and mat.ravel().sum() -1 >=2 and mat.ravel().sum() -1 <= 3:\n",
    "                continue\n",
    "            if board[i, j] == 1 and mat.ravel().sum() -1 >3:\n",
    "                board_modf[i, j] = 0\n",
    "            if board[i, j] == 0 and mat.ravel().sum() == 3:\n",
    "                board_modf[i, j] = 1\n",
    "    return board_modf\n",
    "   "
   ]
  },
  {
   "cell_type": "code",
   "execution_count": 5,
   "metadata": {},
   "outputs": [
    {
     "data": {
      "image/png": "[encoded data removed]",
      "text/plain": [
       "<Figure size 1440x360 with 5 Axes>"
      ]
     },
     "metadata": {
      "needs_background": "light"
     },
     "output_type": "display_data"
    }
   ],
   "source": [
    "import numpy as np\n",
    "import matplotlib.pyplot as plt\n",
    "board_int = np.array([[0, 0, 0, 0, 0], [0, 1, 1, 1, 0], \n",
    "                      [0, 1, 0, 0, 0], [0, 1, 1, 1,0], \n",
    "                      [0, 1, 0, 0, 0], [0, 0, 0, 0, 0]])\n",
    "plt.figure(figsize=(20, 5))\n",
    "\n",
    "plt.subplot(151)\n",
    "plt.imshow(board_int, cmap=plt.cm.binary)\n",
    "plt.grid()\n",
    "\n",
    "plt.subplot(152)\n",
    "plt.imshow(gol(board_int), cmap=plt.cm.binary)\n",
    "plt.grid()\n",
    "\n",
    "plt.subplot(153)\n",
    "plt.imshow(gol(gol(board_int)), cmap=plt.cm.binary)\n",
    "plt.grid()\n",
    "\n",
    "plt.subplot(154)\n",
    "plt.imshow(gol(gol(gol(board_int))), cmap=plt.cm.binary)\n",
    "plt.grid()\n",
    "\n",
    "plt.subplot(155)\n",
    "plt.imshow(gol(gol(gol(gol(board_int)))), cmap=plt.cm.binary)\n",
    "plt.grid()"
   ]
  }
 ],
 "metadata": {
  "kernelspec": {
   "display_name": "Python 3",
   "language": "python",
   "name": "python3"
  },
  "language_info": {
   "codemirror_mode": {
    "name": "ipython",
    "version": 3
   },
   "file_extension": ".py",
   "mimetype": "text/x-python",
   "name": "python",
   "nbconvert_exporter": "python",
   "pygments_lexer": "ipython3",
   "version": "3.7.7"
  }
 },
 "nbformat": 4,
 "nbformat_minor": 4
}
